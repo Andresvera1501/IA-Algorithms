{
  "nbformat": 4,
  "nbformat_minor": 0,
  "metadata": {
    "colab": {
      "name": "Algoritmo A*.ipynb",
      "provenance": []
    },
    "kernelspec": {
      "name": "python3",
      "display_name": "Python 3"
    }
  },
  "cells": [
    {
      "cell_type": "code",
      "metadata": {
        "id": "dIbENMhLXQqz"
      },
      "source": [
        "import networkx as nx\n",
        "import numpy as np"
      ],
      "execution_count": null,
      "outputs": []
    },
    {
      "cell_type": "code",
      "metadata": {
        "id": "BMMOUD2yXToL"
      },
      "source": [
        "ad_matrix = np.array([\n",
        "             [0,1,0,0,0,0,0,0,0,0,0,0,0,0,0],\n",
        "             [1,0,1,0,1,0,0,0,0,0,0,0,0,0,0],\n",
        "             [0,1,0,1,0,0,0,0,0,0,0,0,0,0,0],\n",
        "             [0,0,1,0,0,1,0,0,0,0,0,0,0,0,0],\n",
        "             [0,1,0,0,0,1,0,0,1,0,0,0,0,0,0],\n",
        "             [0,0,0,1,1,0,1,0,0,1,0,0,0,0,0],\n",
        "             [0,0,0,0,0,1,0,1,0,0,0,0,0,0,0],\n",
        "             [0,0,0,0,0,0,1,0,0,0,0,0,0,0,0],\n",
        "             [0,0,0,0,1,0,0,0,0,1,1,0,0,0,0],\n",
        "             [0,0,0,0,0,1,0,0,1,0,1,0,0,0,0],\n",
        "             [0,0,0,0,0,0,0,0,1,1,0,1,0,1,0],\n",
        "             [0,0,0,0,0,0,0,0,0,0,0,0,1,0,0],\n",
        "             [0,0,0,0,0,0,0,0,0,0,0,1,0,1,0],\n",
        "             [0,0,0,0,0,0,0,0,0,0,1,0,1,0,1],\n",
        "             [0,0,0,0,0,0,0,0,0,0,0,0,0,1,0]\n",
        "             ]\n",
        "             )"
      ],
      "execution_count": null,
      "outputs": []
    },
    {
      "cell_type": "code",
      "metadata": {
        "id": "fOxYaE-xXV09"
      },
      "source": [
        "labeldict = {}\n",
        "labeldict[0] = \"Estambul\"\n",
        "labeldict[1] = \"Bursa\"\n",
        "labeldict[2] = \"Balikesir\"\n",
        "labeldict[3] = \"Esmirna\"\n",
        "labeldict[4] = \"Eskisehir\"\n",
        "labeldict[5] = \"Afyonkarahisar\"\n",
        "labeldict[6] = \"Isparta\"\n",
        "labeldict[7] = \"Antalya\"\n",
        "labeldict[8] = \"Ankara\"\n",
        "labeldict[9] = \"Konya\"\n",
        "labeldict[10] = \"Kayseri\"\n",
        "labeldict[11] = \"Mersin\"\n",
        "labeldict[12] = \"Gazintep\"\n",
        "labeldict[13] = \"Malatya\"\n",
        "labeldict[14] = \"Erzurum\"\n"
      ],
      "execution_count": null,
      "outputs": []
    },
    {
      "cell_type": "code",
      "metadata": {
        "id": "706H9eUqXXum",
        "outputId": "333f0772-9bb0-43e0-8555-e21e30eecc78",
        "colab": {
          "base_uri": "https://localhost:8080/",
          "height": 319
        }
      },
      "source": [
        "H = nx.from_numpy_array(ad_matrix)\n",
        "nx.draw(H, labels = labeldict, with_labels=1)"
      ],
      "execution_count": null,
      "outputs": [
        {
          "output_type": "display_data",
          "data": {
            "image/png": "[encoded data removed]",
            "text/plain": [
              "<Figure size 432x288 with 1 Axes>"
            ]
          },
          "metadata": {
            "tags": []
          }
        }
      ]
    },
    {
      "cell_type": "code",
      "metadata": {
        "id": "gHinc4F6XbT2"
      },
      "source": [
        "import math"
      ],
      "execution_count": null,
      "outputs": []
    },
    {
      "cell_type": "code",
      "metadata": {
        "id": "Kr_NGTWFXdRa"
      },
      "source": [
        "coord = np.array([\n",
        "             [41.0122, 28.9760],\n",
        "             [40.1955, 29.0601],\n",
        "             [39.7408, 27.8191],\n",
        "             [38.4127, 27.1383],\n",
        "             [39.7712, 30.5135],\n",
        "             [38.7580, 30.5386],\n",
        "             [37.7666, 30.5478],\n",
        "             [36.9081, 30.6955],\n",
        "             [39.9272, 32.8644],\n",
        "             [37.8725, 32.4920],\n",
        "             [38.7211, 35.4846],\n",
        "             [36.8119, 34.6388],\n",
        "             [37.0657, 37.3772],\n",
        "             [38.3553, 38.3336],\n",
        "             [40.0630, 41.5669]\n",
        "             ]\n",
        "             )"
      ],
      "execution_count": null,
      "outputs": []
    },
    {
      "cell_type": "code",
      "metadata": {
        "id": "HuV_vvKHXfrq"
      },
      "source": [
        "def dist (index_1, index_2):\n",
        "  lat1 = math.radians(coord[index_1][0])\n",
        "  lat2 = math.radians(coord[index_2][0])\n",
        "  lon1 = math.radians(coord[index_1][1])\n",
        "  lon2 = math.radians(coord[index_2][1])\n",
        "\n",
        "  sin_lat1 = math.sin(lat1)\n",
        "  sin_lat2 = math.sin(lat2)\n",
        "  cos_lat1 = math.cos(lat1)\n",
        "  cos_lat2 = math.cos(lat2)\n",
        "  cos_l2_l1 = math.cos(lon2-lon1)\n",
        "\n",
        "  dg = math.acos(sin_lat1*sin_lat2 + cos_lat1*cos_lat2*cos_l2_l1)\n",
        "  d = 6378.137 * dg\n",
        "\n",
        "  return d"
      ],
      "execution_count": null,
      "outputs": []
    },
    {
      "cell_type": "code",
      "metadata": {
        "id": "DusBKqQgXmZr"
      },
      "source": [
        "def expandir_i (index, calls):\n",
        "  calls+=1\n",
        "  min = 99999999\n",
        "  next_index = index\n",
        "\n",
        "  for i in range(15):\n",
        "    if ad_matrix[index][i] == 1:\n",
        "      if i not in nodos_ex_m:\n",
        "        cost_f = distances[i] + dist(index, i, )\n",
        "        cost_functions.append([calls,i,cost_f])\n",
        "        print(\"Posible ruta: \", labeldict[i], \". Función de Costo: \", cost_f)\n",
        "        if cost_f < min:\n",
        "          min = cost_f\n",
        "          next_index = i\n",
        "\n",
        "  for i in range(len(cost_functions)):\n",
        "    if cost_functions[i][2] < min:\n",
        "      if cost_functions[i][1] != index:\n",
        "        min = cost_functions[i][2]\n",
        "        next_index = cost_functions[i][1]\n",
        "        print(\"Hay una mejor ruta por una ciudad evaluada antes:\", labeldict[next_index], \"Nivel:\", cost_functions[i][0])\n",
        "        calls = cost_functions[i][0]\n",
        "\n",
        "\n",
        "  \n",
        "  if next_index not in nodos_ex_m: \n",
        "    print(\"Ruta escogida: \",labeldict[next_index])        \n",
        "    print()\n",
        "    nodos_ex_m.append(next_index)\n",
        "    for j in range(calls):\n",
        "      print(\"-\", end=\"\") #Añadir guiones\n",
        "    print(next_index, labeldict[next_index])\n",
        "    if next_index == destino:\n",
        "      print(\"Hemos hallado una ruta a\", labeldict[destino])\n",
        "    else:\n",
        "      expandir_i(next_index, calls)\n"
      ],
      "execution_count": null,
      "outputs": []
    },
    {
      "cell_type": "code",
      "metadata": {
        "id": "7Zspv2ZaXsRI"
      },
      "source": [
        "inicio = 8\n",
        "destino = 11\n",
        "calls = 0"
      ],
      "execution_count": null,
      "outputs": []
    },
    {
      "cell_type": "code",
      "metadata": {
        "id": "jnBEskwBXwVs",
        "outputId": "2087ec75-9156-4929-b31e-f98dbab987d0",
        "colab": {
          "base_uri": "https://localhost:8080/",
          "height": 408
        }
      },
      "source": [
        "nodos_ex_m = []\n",
        " \n",
        "distances = []\n",
        "cost_functions = np.array(3)\n",
        "cost_functions = []\n",
        "\n",
        "print(\"|||||||||||| Calculando ruta desde \", labeldict[inicio], \"hacia \", labeldict[destino], \"||||||||||||||||\")\n",
        "print()\n",
        "\n",
        "for i in range(15):\n",
        "  distances.append(dist(i,destino))\n",
        "\n",
        "print(inicio, labeldict[inicio])\n",
        "nodos_ex_m.append(inicio)\n",
        "calls = 0\n",
        "expandir_i(inicio, calls)"
      ],
      "execution_count": null,
      "outputs": [
        {
          "output_type": "stream",
          "text": [
            "|||||||||||| Calculando ruta desde  Eskisehir hacia  Mersin ||||||||||||||||\n",
            "\n",
            "4 Eskisehir\n",
            "Posible ruta:  Bursa . Función de Costo:  747.3047019296614\n",
            "Posible ruta:  Afyonkarahisar . Función de Costo:  533.5226918036293\n",
            "Posible ruta:  Ankara . Función de Costo:  581.4374101369019\n",
            "Ruta escogida:  Afyonkarahisar\n",
            "\n",
            "-5 Afyonkarahisar\n",
            "Posible ruta:  Esmirna . Función de Costo:  983.1211922070652\n",
            "Posible ruta:  Isparta . Función de Costo:  487.90897585759444\n",
            "Posible ruta:  Konya . Función de Costo:  420.7184551803607\n",
            "Ruta escogida:  Konya\n",
            "\n",
            "--9 Konya\n",
            "Posible ruta:  Ankara . Función de Costo:  610.7692005992806\n",
            "Posible ruta:  Kayseri . Función de Costo:  503.1573400197503\n",
            "Hay una mejor ruta por una ciudad evaluada antes: Isparta Nivel: 2\n",
            "Ruta escogida:  Isparta\n",
            "\n",
            "--6 Isparta\n",
            "Posible ruta:  Antalya . Función de Costo:  447.8142707658358\n",
            "Hay una mejor ruta por una ciudad evaluada antes: Konya Nivel: 2\n"
          ],
          "name": "stdout"
        }
      ]
    },
    {
      "cell_type": "code",
      "metadata": {
        "id": "jYk633EsfZlV",
        "outputId": "622d65fc-b436-4bf4-bcb8-2847b4b58fc4",
        "colab": {
          "base_uri": "https://localhost:8080/",
          "height": 136
        }
      },
      "source": [
        "cost_functions"
      ],
      "execution_count": null,
      "outputs": [
        {
          "output_type": "execute_result",
          "data": {
            "text/plain": [
              "[[1, 4, 689.8496629675417],\n",
              " [1, 9, 454.67343107660747],\n",
              " [1, 10, 487.7263475683084],\n",
              " [2, 5, 617.7496318060256],\n",
              " [2, 10, 503.1573400197503],\n",
              " [3, 11, 225.18403789567537],\n",
              " [3, 13, 619.7912087221963]]"
            ]
          },
          "metadata": {
            "tags": []
          },
          "execution_count": 39
        }
      ]
    }
  ]
}