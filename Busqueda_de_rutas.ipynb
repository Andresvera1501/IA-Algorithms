{
  "nbformat": 4,
  "nbformat_minor": 0,
  "metadata": {
    "colab": {
      "name": "Busqueda_de_rutas.ipynb",
      "provenance": []
    },
    "kernelspec": {
      "name": "python3",
      "display_name": "Python 3"
    }
  },
  "cells": [
    {
      "cell_type": "markdown",
      "metadata": {
        "id": "JH9GMPX-E5WR"
      },
      "source": [
        "# Sección nueva\n",
        "Algoritmos de Búsqueda No Informada"
      ]
    },
    {
      "cell_type": "code",
      "metadata": {
        "id": "67h3VyJuE_Bk"
      },
      "source": [
        "import numpy as np\n",
        "import networkx as nx\n"
      ],
      "execution_count": 1,
      "outputs": []
    },
    {
      "cell_type": "code",
      "metadata": {
        "id": "UDsC9d7PGLrm"
      },
      "source": [
        "ad_matrix = np.array(\n",
        "    [\n",
        "             [0,1,0,0,0,0,0,0,0,0,0,0,0,0,0],\n",
        "             [1,0,1,0,1,0,0,0,0,0,0,0,0,0,0],\n",
        "             [0,1,0,1,0,0,0,0,0,0,0,0,0,0,0],\n",
        "             [0,0,1,0,0,1,0,0,0,0,0,0,0,0,0],\n",
        "             [0,1,0,0,0,1,0,0,1,0,0,0,0,0,0],\n",
        "             [0,0,0,1,1,0,1,0,0,1,0,0,0,0,0],\n",
        "             [0,0,0,0,0,1,0,1,0,0,0,0,0,0,0],\n",
        "             [0,0,0,0,0,0,1,0,0,0,0,0,0,0,0],\n",
        "             [0,0,0,0,1,0,0,0,0,1,1,0,0,0,0],\n",
        "             [0,0,0,0,0,1,0,0,1,0,1,0,0,0,0],\n",
        "             [0,0,0,0,0,0,0,0,1,1,0,1,0,1,0],\n",
        "             [0,0,0,0,0,0,0,0,0,0,0,0,1,0,0],\n",
        "             [0,0,0,0,0,0,0,0,0,0,0,1,0,0,0],\n",
        "             [0,0,0,0,0,0,0,0,0,0,1,0,1,0,1],\n",
        "             [0,0,0,0,0,0,0,0,0,0,0,0,0,1,0]\n",
        "    ]\n",
        ")\n",
        "\n",
        "ad_matrix"
      ],
      "execution_count": null,
      "outputs": []
    },
    {
      "cell_type": "markdown",
      "metadata": {
        "id": "7TB3GksNE1W6"
      },
      "source": [
        ""
      ]
    },
    {
      "cell_type": "code",
      "metadata": {
        "id": "-GUPKYYuHWt2"
      },
      "source": [
        "labeldict = {}\n",
        "labeldict[0] = \"Estambul\"\n",
        "labeldict[1] = \"Bursa\"\n",
        "labeldict[2] = \"Balikesir\"\n",
        "labeldict[3] = \"Esmirna\"\n",
        "labeldict[4] = \"Eskisehir\"\n",
        "labeldict[5] = \"Afyonkarahisar\"\n",
        "labeldict[6] = \"Isparta\"\n",
        "labeldict[7] = \"Antalya\"\n",
        "labeldict[8] = \"Ankara\"\n",
        "labeldict[9] = \"Konya\"\n",
        "labeldict[10] = \"Kayseri\"\n",
        "labeldict[11] = \"Mersin\"\n",
        "labeldict[12] = \"Gazintep\"\n",
        "labeldict[13] = \"Malatya\"\n",
        "labeldict[14] = \"Erzurum\""
      ],
      "execution_count": 6,
      "outputs": []
    },
    {
      "cell_type": "code",
      "metadata": {
        "id": "E1VgwwCIHEIS"
      },
      "source": [
        "G = nx.from_numpy_array(ad_matrix)\n",
        "nx.draw(G, labels = labeldict, with_labels=1)"
      ],
      "execution_count": null,
      "outputs": []
    },
    {
      "cell_type": "code",
      "metadata": {
        "id": "CYy8YBLOIIsF",
        "outputId": "160ef522-e703-4264-fdb2-5a38d39a6a4c",
        "colab": {
          "base_uri": "https://localhost:8080/",
          "height": 51
        }
      },
      "source": [
        "origen = 0\n",
        "destino = 6\n",
        "\n",
        "nodos_ex = []\n",
        "nodo_2 = []\n",
        "\n",
        "nodos_ex.append(origen)\n",
        "print(origen , \" \",  labeldict[origen])\n",
        "for i in range(14):\n",
        "  if ad_matrix[origen][i] == 1:\n",
        "    print(\" \",i , \" \", labeldict[i])\n",
        "    nodo_2.append(i)\n",
        "    nodos_ex.append(i)\n",
        "    if i == destino:\n",
        "      print(\" ---------------- Hemos encontrado una ruta a \", labeldict[destino])"
      ],
      "execution_count": 37,
      "outputs": [
        {
          "output_type": "stream",
          "text": [
            "0   Estambul\n",
            "  1   Bursa\n"
          ],
          "name": "stdout"
        }
      ]
    },
    {
      "cell_type": "code",
      "metadata": {
        "id": "isguufOeKgP_",
        "outputId": "5e9101b7-7596-47da-a64f-813e313e9b7c",
        "colab": {
          "base_uri": "https://localhost:8080/",
          "height": 85
        }
      },
      "source": [
        "nodo_3 = []\n",
        "for j in nodo_2:\n",
        "  print(j, \" \", labeldict[j])\n",
        "  for i in range(14):\n",
        "    if ad_matrix[j][i] == 1:\n",
        "      print(\" \",i , \" \", labeldict[i])\n",
        "      if i not in nodos_ex:\n",
        "        nodo_3.append(i)\n",
        "        nodos_ex.append(i)\n",
        "      if i == destino:\n",
        "        print(\" ---------------- Hemos encontrado una ruta a \", labeldict[destino])\n"
      ],
      "execution_count": 38,
      "outputs": [
        {
          "output_type": "stream",
          "text": [
            "1   Bursa\n",
            "  0   Estambul\n",
            "  2   Balikesir\n",
            "  4   Eskisehir\n"
          ],
          "name": "stdout"
        }
      ]
    },
    {
      "cell_type": "code",
      "metadata": {
        "id": "4KuRXZW6Lp6F",
        "outputId": "11cf82ee-0452-4a13-f4e1-f9303f033246",
        "colab": {
          "base_uri": "https://localhost:8080/",
          "height": 140
        }
      },
      "source": [
        "nodo_4 = []\n",
        "for j in nodo_3:\n",
        "  print(j, \" \", labeldict[j])\n",
        "  for i in range(14):\n",
        "    if ad_matrix[j][i] == 1:\n",
        "      print(\" \",i , \" \", labeldict[i])\n",
        "      if i not in nodos_ex:\n",
        "        nodo_4.append(i)\n",
        "        nodos_ex.append(i)\n",
        "      if i == destino:\n",
        "        print(\" ---------------- Hemos encontrado una ruta a \", labeldict[destino])"
      ],
      "execution_count": 39,
      "outputs": [
        {
          "output_type": "stream",
          "text": [
            "2   Balikesir\n",
            "  1   Bursa\n",
            "  3   Esmirna\n",
            "4   Eskisehir\n",
            "  1   Bursa\n",
            "  5   Afyonkarahisar\n",
            "  8   Ankara\n"
          ],
          "name": "stdout"
        }
      ]
    },
    {
      "cell_type": "code",
      "metadata": {
        "id": "gZdS1fw8ObS5",
        "outputId": "496db94d-1da9-4ee1-8533-10704bb9e265",
        "colab": {
          "base_uri": "https://localhost:8080/",
          "height": 246
        }
      },
      "source": [
        "nodo_5 = []\n",
        "for j in nodo_4:\n",
        "  print(j, \" \", labeldict[j])\n",
        "  for i in range(14):\n",
        "    if ad_matrix[j][i] == 1:\n",
        "      print(\" \",i , \" \", labeldict[i])\n",
        "      if i not in nodos_ex:\n",
        "        nodo_5.append(i)\n",
        "        nodos_ex.append(i)\n",
        "      if i == destino:\n",
        "        print(\" ---------------- Hemos encontrado una ruta a \", labeldict[destino])"
      ],
      "execution_count": 40,
      "outputs": [
        {
          "output_type": "stream",
          "text": [
            "3   Esmirna\n",
            "  2   Balikesir\n",
            "  5   Afyonkarahisar\n",
            "5   Afyonkarahisar\n",
            "  3   Esmirna\n",
            "  4   Eskisehir\n",
            "  6   Isparta\n",
            " ---------------- Hemos encontrado una ruta a  Isparta\n",
            "  9   Konya\n",
            "8   Ankara\n",
            "  4   Eskisehir\n",
            "  9   Konya\n",
            "  10   Kayseri\n"
          ],
          "name": "stdout"
        }
      ]
    }
  ]
}