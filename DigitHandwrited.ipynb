{
  "nbformat": 4,
  "nbformat_minor": 0,
  "metadata": {
    "colab": {
      "name": "DigitHandwrited.ipynb",
      "provenance": []
    },
    "kernelspec": {
      "name": "python3",
      "display_name": "Python 3"
    }
  },
  "cells": [
    {
      "cell_type": "code",
      "metadata": {
        "id": "c4nYSyrwlkwL"
      },
      "source": [
        "import pandas as pd\r\n",
        "import numpy as np\r\n",
        "import matplotlib.pyplot as plt\r\n",
        "\r\n",
        "from sklearn.model_selection import train_test_split"
      ],
      "execution_count": null,
      "outputs": []
    },
    {
      "cell_type": "code",
      "metadata": {
        "id": "ZuBiS7-WlzT5"
      },
      "source": [
        "train_data = pd.read_csv('train.csv')\r\n",
        "train_data.info"
      ],
      "execution_count": null,
      "outputs": []
    },
    {
      "cell_type": "code",
      "metadata": {
        "id": "pf6jZsxImBZ8"
      },
      "source": [
        "X_data, y_data = train_data.values[:,1:], train_data.values[:,0]\r\n",
        "X_data = X_data / 255.0"
      ],
      "execution_count": null,
      "outputs": []
    },
    {
      "cell_type": "code",
      "metadata": {
        "id": "ygdRaQMtoypn"
      },
      "source": [
        "from keras.models import Sequential\r\n",
        "from keras.layers import Dense, Activation\r\n",
        "from keras.layers import Convolution2D, MaxPooling2D, Reshape, BatchNormalization, Flatten\r\n",
        "from keras.losses import sparse_categorical_crossentropy"
      ],
      "execution_count": null,
      "outputs": []
    },
    {
      "cell_type": "code",
      "metadata": {
        "id": "harhJJq8rNKD"
      },
      "source": [
        "model = Sequential()\r\n",
        "model.add(Reshape(input_shape=(784,), target_shape=(28, 28, 1)))\r\n",
        "model.add(Convolution2D(6, (3,3), activation='relu'))\r\n",
        "model.add(BatchNormalization(axis=1))\r\n",
        "model.add(Convolution2D(16, (3,3), activation='relu'))\r\n",
        "model.add(MaxPooling2D())\r\n",
        "model.add(Flatten())\r\n",
        "model.add(BatchNormalization())\r\n",
        "model.add(Dense(120, activation='relu'))\r\n",
        "model.add(BatchNormalization())\r\n",
        "model.add(Dense(100, activation='relu'))\r\n",
        "model.add(BatchNormalization())\r\n",
        "model.add(Dense(10, activation='softmax'))"
      ],
      "execution_count": null,
      "outputs": []
    },
    {
      "cell_type": "code",
      "metadata": {
        "id": "JTmYN22msKjK"
      },
      "source": [
        "model.compile(loss='sparse_categorical_crossentropy', optimizer='adam',metrics=['accuracy'])"
      ],
      "execution_count": null,
      "outputs": []
    },
    {
      "cell_type": "code",
      "metadata": {
        "colab": {
          "base_uri": "https://localhost:8080/"
        },
        "id": "9--E4Ap3uCR3",
        "outputId": "b2bb6e86-8ebb-4d62-9fae-0263aa9b77f8"
      },
      "source": [
        "print(model.summary())"
      ],
      "execution_count": null,
      "outputs": [
        {
          "output_type": "stream",
          "text": [
            "Model: \"sequential_1\"\n",
            "_________________________________________________________________\n",
            "Layer (type)                 Output Shape              Param #   \n",
            "=================================================================\n",
            "reshape_1 (Reshape)          (None, 28, 28, 1)         0         \n",
            "_________________________________________________________________\n",
            "conv2d_2 (Conv2D)            (None, 26, 26, 6)         60        \n",
            "_________________________________________________________________\n",
            "batch_normalization_4 (Batch (None, 26, 26, 6)         104       \n",
            "_________________________________________________________________\n",
            "conv2d_3 (Conv2D)            (None, 24, 24, 16)        880       \n",
            "_________________________________________________________________\n",
            "max_pooling2d_1 (MaxPooling2 (None, 12, 12, 16)        0         \n",
            "_________________________________________________________________\n",
            "flatten_1 (Flatten)          (None, 2304)              0         \n",
            "_________________________________________________________________\n",
            "batch_normalization_5 (Batch (None, 2304)              9216      \n",
            "_________________________________________________________________\n",
            "dense_3 (Dense)              (None, 120)               276600    \n",
            "_________________________________________________________________\n",
            "batch_normalization_6 (Batch (None, 120)               480       \n",
            "_________________________________________________________________\n",
            "dense_4 (Dense)              (None, 100)               12100     \n",
            "_________________________________________________________________\n",
            "batch_normalization_7 (Batch (None, 100)               400       \n",
            "_________________________________________________________________\n",
            "dense_5 (Dense)              (None, 10)                1010      \n",
            "=================================================================\n",
            "Total params: 300,850\n",
            "Trainable params: 295,750\n",
            "Non-trainable params: 5,100\n",
            "_________________________________________________________________\n",
            "None\n"
          ],
          "name": "stdout"
        }
      ]
    },
    {
      "cell_type": "code",
      "metadata": {
        "id": "m_6eg45esw2f"
      },
      "source": [
        "X_train, X_test, y_train, y_test = train_test_split(X_data, y_data, test_size = .1)"
      ],
      "execution_count": null,
      "outputs": []
    },
    {
      "cell_type": "code",
      "metadata": {
        "id": "hTfqyYD1s6MZ"
      },
      "source": [
        "X_train, X_val, y_train, y_val = train_test_split(X_train, y_train, test_size = .2)"
      ],
      "execution_count": null,
      "outputs": []
    },
    {
      "cell_type": "code",
      "metadata": {
        "colab": {
          "base_uri": "https://localhost:8080/"
        },
        "id": "VK4JPklAsVQF",
        "outputId": "f22feef2-51d7-491e-eb46-07a21381843d"
      },
      "source": [
        "model.fit(X_train, y_train, batch_size=128, epochs=5, validation_data=(X_val,y_val))"
      ],
      "execution_count": null,
      "outputs": [
        {
          "output_type": "stream",
          "text": [
            "Epoch 1/5\n",
            "237/237 [==============================] - 24s 102ms/step - loss: 0.2035 - accuracy: 0.9387 - val_loss: 0.4314 - val_accuracy: 0.9280\n",
            "Epoch 2/5\n",
            "237/237 [==============================] - 23s 98ms/step - loss: 0.0569 - accuracy: 0.9838 - val_loss: 0.0659 - val_accuracy: 0.9823\n",
            "Epoch 3/5\n",
            "237/237 [==============================] - 23s 98ms/step - loss: 0.0294 - accuracy: 0.9916 - val_loss: 0.0615 - val_accuracy: 0.9816\n",
            "Epoch 4/5\n",
            "237/237 [==============================] - 23s 99ms/step - loss: 0.0181 - accuracy: 0.9948 - val_loss: 0.0661 - val_accuracy: 0.9791\n",
            "Epoch 5/5\n",
            "237/237 [==============================] - 23s 98ms/step - loss: 0.0107 - accuracy: 0.9976 - val_loss: 0.0569 - val_accuracy: 0.9836\n"
          ],
          "name": "stdout"
        },
        {
          "output_type": "execute_result",
          "data": {
            "text/plain": [
              "<tensorflow.python.keras.callbacks.History at 0x7f69c6a017f0>"
            ]
          },
          "metadata": {
            "tags": []
          },
          "execution_count": 31
        }
      ]
    },
    {
      "cell_type": "code",
      "metadata": {
        "colab": {
          "base_uri": "https://localhost:8080/"
        },
        "id": "yuFZOcyIvFSB",
        "outputId": "ffc3db7f-e811-47cc-b45d-337ed019ad5b"
      },
      "source": [
        "valid_loss, valid_acc = model.evaluate(X_test, y_test, verbose=2)\r\n",
        "print('Valid accuracy:', valid_acc)"
      ],
      "execution_count": null,
      "outputs": [
        {
          "output_type": "stream",
          "text": [
            "132/132 - 1s - loss: 0.0549 - accuracy: 0.9850\n",
            "Valid accuracy: 0.9850000143051147\n"
          ],
          "name": "stdout"
        }
      ]
    },
    {
      "cell_type": "code",
      "metadata": {
        "colab": {
          "base_uri": "https://localhost:8080/",
          "height": 593
        },
        "id": "mosCNdI_vUZ4",
        "outputId": "5b49bf83-ec53-4160-9e88-d467e30f58a5"
      },
      "source": [
        "fig=plt.figure(figsize=(10, 10))\r\n",
        "columns = 4\r\n",
        "rows = 4\r\n",
        "for i in range(0, columns*rows):\r\n",
        "    img = np.array(X_train[i]).reshape(28,28)\r\n",
        "    fig.add_subplot(rows, columns, i+1)\r\n",
        "    plt.imshow(img, interpolation='nearest',cmap=plt.cm.gray_r)\r\n",
        "plt.show()"
      ],
      "execution_count": null,
      "outputs": [
        {
          "output_type": "display_data",
          "data": {
            "image/png": "[encoded data removed]",
            "text/plain": [
              "<Figure size 720x720 with 16 Axes>"
            ]
          },
          "metadata": {
            "tags": [],
            "needs_background": "light"
          }
        }
      ]
    }
  ]
}